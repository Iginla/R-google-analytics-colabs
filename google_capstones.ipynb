{
  "nbformat": 4,
  "nbformat_minor": 0,
  "metadata": {
    "colab": {
      "name": "google_capstones.ipynb",
      "provenance": [],
      "collapsed_sections": [],
      "authorship_tag": "ABX9TyMJjb2txAuGcYAp/U0ABK5a",
      "include_colab_link": true
    },
    "kernelspec": {
      "name": "ir",
      "display_name": "R"
    },
    "language_info": {
      "name": "R"
    }
  },
  "cells": [
    {
      "cell_type": "markdown",
      "metadata": {
        "id": "view-in-github",
        "colab_type": "text"
      },
      "source": [
        "<a href=\"https://colab.research.google.com/github/Iginla/R-google-analytics-colabs/blob/main/google_capstones.ipynb\" target=\"_parent\"><img src=\"https://colab.research.google.com/assets/colab-badge.svg\" alt=\"Open In Colab\"/></a>"
      ]
    },
    {
      "cell_type": "markdown",
      "metadata": {
        "id": "HVWAjIHaMcA9"
      },
      "source": [
        "# Topic: Google Data Analytics Capstone\n",
        "# Use-Case: Twelve Months Cyclistic's Bike-Share Data Analysis To Navigate Speedy Success between different Bike User Types - strategy convert casual riders to riders with annual memberships.\n",
        "# Name : Muritala Iginla\n",
        "# Role: junior Data Analyst\n",
        "# Preferred Tools for analysis : Google Colabs with R Runtime Type\n",
        "# Dated: December 2021\n"
      ]
    },
    {
      "cell_type": "markdown",
      "metadata": {
        "id": "tVaM5CfDGSUK"
      },
      "source": [
        "# Data mined and Exploratory Analysis\n",
        "##  ========================================================="
      ]
    },
    {
      "cell_type": "markdown",
      "metadata": {
        "id": "V57fmx0fmWAw"
      },
      "source": [
        "Installing  and Loading packages"
      ]
    },
    {
      "cell_type": "code",
      "metadata": {
        "id": "RvlHzMrWmd7S"
      },
      "source": [
        "installed.packages(tidyverse)\n",
        "installed.packages(lubridate)\n",
        "installed.packages(ggplot2)\n",
        "installed.packages(readxl)\n"
      ],
      "execution_count": null,
      "outputs": []
    },
    {
      "cell_type": "code",
      "metadata": {
        "colab": {
          "base_uri": "https://localhost:8080/",
          "height": 260
        },
        "id": "fyMbcUV_5eK-",
        "outputId": "8618f1db-4503-4ff0-90cf-e22ab126b029"
      },
      "source": [
        "library(tidyverse)  #helps wrangle data\n",
        "library(ggplot2)  #helps visualize data\n",
        "library(readxl)\n",
        "getwd()"
      ],
      "execution_count": 3,
      "outputs": [
        {
          "output_type": "stream",
          "name": "stderr",
          "text": [
            "Warning message in system(\"timedatectl\", intern = TRUE):\n",
            "“running command 'timedatectl' had status 1”\n",
            "── \u001b[1mAttaching packages\u001b[22m ─────────────────────────────────────── tidyverse 1.3.1 ──\n",
            "\n",
            "\u001b[32m✔\u001b[39m \u001b[34mggplot2\u001b[39m 3.3.5     \u001b[32m✔\u001b[39m \u001b[34mpurrr  \u001b[39m 0.3.4\n",
            "\u001b[32m✔\u001b[39m \u001b[34mtibble \u001b[39m 3.1.6     \u001b[32m✔\u001b[39m \u001b[34mdplyr  \u001b[39m 1.0.7\n",
            "\u001b[32m✔\u001b[39m \u001b[34mtidyr  \u001b[39m 1.1.4     \u001b[32m✔\u001b[39m \u001b[34mstringr\u001b[39m 1.4.0\n",
            "\u001b[32m✔\u001b[39m \u001b[34mreadr  \u001b[39m 2.1.0     \u001b[32m✔\u001b[39m \u001b[34mforcats\u001b[39m 0.5.1\n",
            "\n",
            "── \u001b[1mConflicts\u001b[22m ────────────────────────────────────────── tidyverse_conflicts() ──\n",
            "\u001b[31m✖\u001b[39m \u001b[34mdplyr\u001b[39m::\u001b[32mfilter()\u001b[39m masks \u001b[34mstats\u001b[39m::filter()\n",
            "\u001b[31m✖\u001b[39m \u001b[34mdplyr\u001b[39m::\u001b[32mlag()\u001b[39m    masks \u001b[34mstats\u001b[39m::lag()\n",
            "\n"
          ]
        },
        {
          "output_type": "display_data",
          "data": {
            "text/plain": [
              "[1] \"/content\""
            ],
            "text/latex": "'/content'",
            "text/markdown": "'/content'",
            "text/html": [
              "'/content'"
            ]
          },
          "metadata": {}
        }
      ]
    },
    {
      "cell_type": "markdown",
      "metadata": {
        "id": "moxhU-VRpIh3"
      },
      "source": [
        "Loading (Drag and Drop) and Exploring the Datasets"
      ]
    },
    {
      "cell_type": "code",
      "metadata": {
        "colab": {
          "base_uri": "https://localhost:8080/"
        },
        "id": "KjWEyR6BX9o4",
        "outputId": "26d93f01-7738-4872-fc17-49135d9955a6"
      },
      "source": [
        "nov2020 <- read.csv('/content/sample_data/google_cap/202011.csv')\n",
        "dec2020 <- read.csv('/content/sample_data/google_cap/202012.csv')\n",
        "jan2021 <- read.csv('/content/sample_data/google_cap/202101.csv')\n",
        "feb2021 <- read.csv('/content/sample_data/google_cap/202102.csv')\n",
        "mar2021 <- read.csv('/content/sample_data/google_cap/202103.csv')\n",
        "apr2021 <- read.csv('/content/sample_data/google_cap/202104.csv')\n",
        "may2021 <- read.csv('/content/sample_data/google_cap/202105.csv')\n",
        "jun2021 <- read.csv('/content/sample_data/google_cap/202106.csv')\n",
        "jul2021 <- read.csv('/content/sample_data/google_cap/202107.csv')\n",
        "aug2021 <- read.csv('/content/sample_data/google_cap/202108.csv')\n",
        "sep2021 <- read.csv('/content/sample_data/google_cap/202109.csv')\n",
        "oct2021 <- read.csv('/content/sample_data/google_cap/202110.csv')\n",
        "str(nov2020)"
      ],
      "execution_count": 4,
      "outputs": [
        {
          "output_type": "stream",
          "name": "stdout",
          "text": [
            "'data.frame':\t259716 obs. of  13 variables:\n",
            " $ ride_id           : chr  \"BD0A6FF6FFF9B921\" \"96A7A7A4BDE4F82D\" \"C61526D06582BDC5\" \"E533E89C32080B9E\" ...\n",
            " $ rideable_type     : chr  \"electric_bike\" \"electric_bike\" \"electric_bike\" \"electric_bike\" ...\n",
            " $ started_at        : chr  \"2020-11-01 13:36:00\" \"2020-11-01 10:03:26\" \"2020-11-01 00:34:05\" \"2020-11-01 00:45:16\" ...\n",
            " $ ended_at          : chr  \"2020-11-01 13:45:40\" \"2020-11-01 10:14:45\" \"2020-11-01 01:03:06\" \"2020-11-01 00:54:31\" ...\n",
            " $ start_station_name: chr  \"Dearborn St & Erie St\" \"Franklin St & Illinois St\" \"Lake Shore Dr & Monroe St\" \"Leavitt St & Chicago Ave\" ...\n",
            " $ start_station_id  : int  110 672 76 659 2 72 76 NA 58 394 ...\n",
            " $ end_station_name  : chr  \"St. Clair St & Erie St\" \"Noble St & Milwaukee Ave\" \"Federal St & Polk St\" \"Stave St & Armitage Ave\" ...\n",
            " $ end_station_id    : int  211 29 41 185 2 76 72 NA 288 273 ...\n",
            " $ start_lat         : num  41.9 41.9 41.9 41.9 41.9 ...\n",
            " $ start_lng         : num  -87.6 -87.6 -87.6 -87.7 -87.6 ...\n",
            " $ end_lat           : num  41.9 41.9 41.9 41.9 41.9 ...\n",
            " $ end_lng           : num  -87.6 -87.7 -87.6 -87.7 -87.6 ...\n",
            " $ member_casual     : chr  \"casual\" \"casual\" \"casual\" \"casual\" ...\n"
          ]
        }
      ]
    },
    {
      "cell_type": "markdown",
      "metadata": {
        "id": "-1FVue3AEcQ8"
      },
      "source": [
        "# Data Wrangling and Combine Data Into a Single File\n",
        "#  =================================================================="
      ]
    },
    {
      "cell_type": "markdown",
      "metadata": {
        "id": "1jQoeuyZlXaj"
      },
      "source": [
        "## Merging the 12 months of cyclistic trip data frames into a single data frame"
      ]
    },
    {
      "cell_type": "markdown",
      "metadata": {
        "id": "LS3P_Gu0y9zG"
      },
      "source": [
        "The concept of combing the rows of multiple data frames is highly beneficial in data manipulation."
      ]
    },
    {
      "cell_type": "code",
      "metadata": {
        "colab": {
          "base_uri": "https://localhost:8080/"
        },
        "id": "3fg7MWtckVCF",
        "outputId": "e47e104f-1f93-45d4-9858-244c6b191456"
      },
      "source": [
        "comb_trip <- rbind(nov2020, dec2020, jan2021, feb2021, mar2021, apr2021, may2021, jun2021, jul2021, aug2021, sep2021, oct2021)\n",
        "str(comb_trip)"
      ],
      "execution_count": 5,
      "outputs": [
        {
          "output_type": "stream",
          "name": "stdout",
          "text": [
            "'data.frame':\t5378834 obs. of  13 variables:\n",
            " $ ride_id           : chr  \"BD0A6FF6FFF9B921\" \"96A7A7A4BDE4F82D\" \"C61526D06582BDC5\" \"E533E89C32080B9E\" ...\n",
            " $ rideable_type     : chr  \"electric_bike\" \"electric_bike\" \"electric_bike\" \"electric_bike\" ...\n",
            " $ started_at        : chr  \"2020-11-01 13:36:00\" \"2020-11-01 10:03:26\" \"2020-11-01 00:34:05\" \"2020-11-01 00:45:16\" ...\n",
            " $ ended_at          : chr  \"2020-11-01 13:45:40\" \"2020-11-01 10:14:45\" \"2020-11-01 01:03:06\" \"2020-11-01 00:54:31\" ...\n",
            " $ start_station_name: chr  \"Dearborn St & Erie St\" \"Franklin St & Illinois St\" \"Lake Shore Dr & Monroe St\" \"Leavitt St & Chicago Ave\" ...\n",
            " $ start_station_id  : chr  \"110\" \"672\" \"76\" \"659\" ...\n",
            " $ end_station_name  : chr  \"St. Clair St & Erie St\" \"Noble St & Milwaukee Ave\" \"Federal St & Polk St\" \"Stave St & Armitage Ave\" ...\n",
            " $ end_station_id    : chr  \"211\" \"29\" \"41\" \"185\" ...\n",
            " $ start_lat         : num  41.9 41.9 41.9 41.9 41.9 ...\n",
            " $ start_lng         : num  -87.6 -87.6 -87.6 -87.7 -87.6 ...\n",
            " $ end_lat           : num  41.9 41.9 41.9 41.9 41.9 ...\n",
            " $ end_lng           : num  -87.6 -87.7 -87.6 -87.7 -87.6 ...\n",
            " $ member_casual     : chr  \"casual\" \"casual\" \"casual\" \"casual\" ...\n"
          ]
        }
      ]
    },
    {
      "cell_type": "markdown",
      "metadata": {
        "id": "VsOLVyce3rq3"
      },
      "source": [
        "#Rename some columns for readability"
      ]
    },
    {
      "cell_type": "code",
      "metadata": {
        "colab": {
          "base_uri": "https://localhost:8080/",
          "height": 514
        },
        "id": "pqp1otQH4Eqj",
        "outputId": "b7429fde-dccd-46ae-b0b6-bac3a56fd737"
      },
      "source": [
        "renamed_trips <- comb_trip %>%\n",
        "  rename(trip_id=ride_id, bike_type = rideable_type, start_time=started_at, end_time=ended_at, rider_type=member_casual)\n",
        "head(renamed_trips)"
      ],
      "execution_count": 6,
      "outputs": [
        {
          "output_type": "display_data",
          "data": {
            "text/plain": [
              "  trip_id          bike_type     start_time          end_time           \n",
              "1 BD0A6FF6FFF9B921 electric_bike 2020-11-01 13:36:00 2020-11-01 13:45:40\n",
              "2 96A7A7A4BDE4F82D electric_bike 2020-11-01 10:03:26 2020-11-01 10:14:45\n",
              "3 C61526D06582BDC5 electric_bike 2020-11-01 00:34:05 2020-11-01 01:03:06\n",
              "4 E533E89C32080B9E electric_bike 2020-11-01 00:45:16 2020-11-01 00:54:31\n",
              "5 1C9F4EF18C168C60 electric_bike 2020-11-01 15:43:25 2020-11-01 16:16:52\n",
              "6 7259585D8276D338 electric_bike 2020-11-14 15:55:17 2020-11-14 16:44:38\n",
              "  start_station_name        start_station_id end_station_name         \n",
              "1 Dearborn St & Erie St     110              St. Clair St & Erie St   \n",
              "2 Franklin St & Illinois St 672              Noble St & Milwaukee Ave \n",
              "3 Lake Shore Dr & Monroe St 76               Federal St & Polk St     \n",
              "4 Leavitt St & Chicago Ave  659              Stave St & Armitage Ave  \n",
              "5 Buckingham Fountain       2                Buckingham Fountain      \n",
              "6 Wabash Ave & 16th St      72               Lake Shore Dr & Monroe St\n",
              "  end_station_id start_lat start_lng end_lat  end_lng   rider_type\n",
              "1 211            41.89418  -87.62913 41.89443 -87.62338 casual    \n",
              "2 29             41.89096  -87.63534 41.90067 -87.66248 casual    \n",
              "3 41             41.88098  -87.61675 41.87205 -87.62955 casual    \n",
              "4 185            41.89550  -87.68201 41.91774 -87.69139 casual    \n",
              "5 2              41.87650  -87.62036 41.87645 -87.62034 casual    \n",
              "6 76             41.86029  -87.62581 41.88099 -87.61677 casual    "
            ],
            "text/latex": "A data.frame: 6 × 13\n\\begin{tabular}{r|lllllllllllll}\n  & trip\\_id & bike\\_type & start\\_time & end\\_time & start\\_station\\_name & start\\_station\\_id & end\\_station\\_name & end\\_station\\_id & start\\_lat & start\\_lng & end\\_lat & end\\_lng & rider\\_type\\\\\n  & <chr> & <chr> & <chr> & <chr> & <chr> & <chr> & <chr> & <chr> & <dbl> & <dbl> & <dbl> & <dbl> & <chr>\\\\\n\\hline\n\t1 & BD0A6FF6FFF9B921 & electric\\_bike & 2020-11-01 13:36:00 & 2020-11-01 13:45:40 & Dearborn St \\& Erie St     & 110 & St. Clair St \\& Erie St    & 211 & 41.89418 & -87.62913 & 41.89443 & -87.62338 & casual\\\\\n\t2 & 96A7A7A4BDE4F82D & electric\\_bike & 2020-11-01 10:03:26 & 2020-11-01 10:14:45 & Franklin St \\& Illinois St & 672 & Noble St \\& Milwaukee Ave  & 29  & 41.89096 & -87.63534 & 41.90067 & -87.66248 & casual\\\\\n\t3 & C61526D06582BDC5 & electric\\_bike & 2020-11-01 00:34:05 & 2020-11-01 01:03:06 & Lake Shore Dr \\& Monroe St & 76  & Federal St \\& Polk St      & 41  & 41.88098 & -87.61675 & 41.87205 & -87.62955 & casual\\\\\n\t4 & E533E89C32080B9E & electric\\_bike & 2020-11-01 00:45:16 & 2020-11-01 00:54:31 & Leavitt St \\& Chicago Ave  & 659 & Stave St \\& Armitage Ave   & 185 & 41.89550 & -87.68201 & 41.91774 & -87.69139 & casual\\\\\n\t5 & 1C9F4EF18C168C60 & electric\\_bike & 2020-11-01 15:43:25 & 2020-11-01 16:16:52 & Buckingham Fountain       & 2   & Buckingham Fountain       & 2   & 41.87650 & -87.62036 & 41.87645 & -87.62034 & casual\\\\\n\t6 & 7259585D8276D338 & electric\\_bike & 2020-11-14 15:55:17 & 2020-11-14 16:44:38 & Wabash Ave \\& 16th St      & 72  & Lake Shore Dr \\& Monroe St & 76  & 41.86029 & -87.62581 & 41.88099 & -87.61677 & casual\\\\\n\\end{tabular}\n",
            "text/markdown": "\nA data.frame: 6 × 13\n\n| <!--/--> | trip_id &lt;chr&gt; | bike_type &lt;chr&gt; | start_time &lt;chr&gt; | end_time &lt;chr&gt; | start_station_name &lt;chr&gt; | start_station_id &lt;chr&gt; | end_station_name &lt;chr&gt; | end_station_id &lt;chr&gt; | start_lat &lt;dbl&gt; | start_lng &lt;dbl&gt; | end_lat &lt;dbl&gt; | end_lng &lt;dbl&gt; | rider_type &lt;chr&gt; |\n|---|---|---|---|---|---|---|---|---|---|---|---|---|---|\n| 1 | BD0A6FF6FFF9B921 | electric_bike | 2020-11-01 13:36:00 | 2020-11-01 13:45:40 | Dearborn St &amp; Erie St     | 110 | St. Clair St &amp; Erie St    | 211 | 41.89418 | -87.62913 | 41.89443 | -87.62338 | casual |\n| 2 | 96A7A7A4BDE4F82D | electric_bike | 2020-11-01 10:03:26 | 2020-11-01 10:14:45 | Franklin St &amp; Illinois St | 672 | Noble St &amp; Milwaukee Ave  | 29  | 41.89096 | -87.63534 | 41.90067 | -87.66248 | casual |\n| 3 | C61526D06582BDC5 | electric_bike | 2020-11-01 00:34:05 | 2020-11-01 01:03:06 | Lake Shore Dr &amp; Monroe St | 76  | Federal St &amp; Polk St      | 41  | 41.88098 | -87.61675 | 41.87205 | -87.62955 | casual |\n| 4 | E533E89C32080B9E | electric_bike | 2020-11-01 00:45:16 | 2020-11-01 00:54:31 | Leavitt St &amp; Chicago Ave  | 659 | Stave St &amp; Armitage Ave   | 185 | 41.89550 | -87.68201 | 41.91774 | -87.69139 | casual |\n| 5 | 1C9F4EF18C168C60 | electric_bike | 2020-11-01 15:43:25 | 2020-11-01 16:16:52 | Buckingham Fountain       | 2   | Buckingham Fountain       | 2   | 41.87650 | -87.62036 | 41.87645 | -87.62034 | casual |\n| 6 | 7259585D8276D338 | electric_bike | 2020-11-14 15:55:17 | 2020-11-14 16:44:38 | Wabash Ave &amp; 16th St      | 72  | Lake Shore Dr &amp; Monroe St | 76  | 41.86029 | -87.62581 | 41.88099 | -87.61677 | casual |\n\n",
            "text/html": [
              "<table class=\"dataframe\">\n",
              "<caption>A data.frame: 6 × 13</caption>\n",
              "<thead>\n",
              "\t<tr><th></th><th scope=col>trip_id</th><th scope=col>bike_type</th><th scope=col>start_time</th><th scope=col>end_time</th><th scope=col>start_station_name</th><th scope=col>start_station_id</th><th scope=col>end_station_name</th><th scope=col>end_station_id</th><th scope=col>start_lat</th><th scope=col>start_lng</th><th scope=col>end_lat</th><th scope=col>end_lng</th><th scope=col>rider_type</th></tr>\n",
              "\t<tr><th></th><th scope=col>&lt;chr&gt;</th><th scope=col>&lt;chr&gt;</th><th scope=col>&lt;chr&gt;</th><th scope=col>&lt;chr&gt;</th><th scope=col>&lt;chr&gt;</th><th scope=col>&lt;chr&gt;</th><th scope=col>&lt;chr&gt;</th><th scope=col>&lt;chr&gt;</th><th scope=col>&lt;dbl&gt;</th><th scope=col>&lt;dbl&gt;</th><th scope=col>&lt;dbl&gt;</th><th scope=col>&lt;dbl&gt;</th><th scope=col>&lt;chr&gt;</th></tr>\n",
              "</thead>\n",
              "<tbody>\n",
              "\t<tr><th scope=row>1</th><td>BD0A6FF6FFF9B921</td><td>electric_bike</td><td>2020-11-01 13:36:00</td><td>2020-11-01 13:45:40</td><td><span style=white-space:pre-wrap>Dearborn St &amp; Erie St    </span></td><td>110</td><td><span style=white-space:pre-wrap>St. Clair St &amp; Erie St   </span></td><td>211</td><td>41.89418</td><td>-87.62913</td><td>41.89443</td><td>-87.62338</td><td>casual</td></tr>\n",
              "\t<tr><th scope=row>2</th><td>96A7A7A4BDE4F82D</td><td>electric_bike</td><td>2020-11-01 10:03:26</td><td>2020-11-01 10:14:45</td><td>Franklin St &amp; Illinois St</td><td>672</td><td>Noble St &amp; Milwaukee Ave </td><td>29 </td><td>41.89096</td><td>-87.63534</td><td>41.90067</td><td>-87.66248</td><td>casual</td></tr>\n",
              "\t<tr><th scope=row>3</th><td>C61526D06582BDC5</td><td>electric_bike</td><td>2020-11-01 00:34:05</td><td>2020-11-01 01:03:06</td><td>Lake Shore Dr &amp; Monroe St</td><td>76 </td><td><span style=white-space:pre-wrap>Federal St &amp; Polk St     </span></td><td>41 </td><td>41.88098</td><td>-87.61675</td><td>41.87205</td><td>-87.62955</td><td>casual</td></tr>\n",
              "\t<tr><th scope=row>4</th><td>E533E89C32080B9E</td><td>electric_bike</td><td>2020-11-01 00:45:16</td><td>2020-11-01 00:54:31</td><td>Leavitt St &amp; Chicago Ave </td><td>659</td><td><span style=white-space:pre-wrap>Stave St &amp; Armitage Ave  </span></td><td>185</td><td>41.89550</td><td>-87.68201</td><td>41.91774</td><td>-87.69139</td><td>casual</td></tr>\n",
              "\t<tr><th scope=row>5</th><td>1C9F4EF18C168C60</td><td>electric_bike</td><td>2020-11-01 15:43:25</td><td>2020-11-01 16:16:52</td><td>Buckingham Fountain      </td><td>2  </td><td>Buckingham Fountain      </td><td>2  </td><td>41.87650</td><td>-87.62036</td><td>41.87645</td><td>-87.62034</td><td>casual</td></tr>\n",
              "\t<tr><th scope=row>6</th><td>7259585D8276D338</td><td>electric_bike</td><td>2020-11-14 15:55:17</td><td>2020-11-14 16:44:38</td><td><span style=white-space:pre-wrap>Wabash Ave &amp; 16th St     </span></td><td>72 </td><td>Lake Shore Dr &amp; Monroe St</td><td>76 </td><td>41.86029</td><td>-87.62581</td><td>41.88099</td><td>-87.61677</td><td>casual</td></tr>\n",
              "</tbody>\n",
              "</table>\n"
            ]
          },
          "metadata": {}
        }
      ]
    },
    {
      "cell_type": "code",
      "metadata": {
        "colab": {
          "base_uri": "https://localhost:8080/",
          "height": 390
        },
        "id": "vv3pIO8tErG4",
        "outputId": "f2fae2ad-8eda-43c4-fef9-ba2d09533f9e"
      },
      "source": [
        "#remove the non-applicable columns\n",
        "renamed_trips <- renamed_trips %>%\n",
        "  select(-c(start_lat, start_lng, end_lat, end_lng))\n",
        "head(renamed_trips)"
      ],
      "execution_count": 7,
      "outputs": [
        {
          "output_type": "display_data",
          "data": {
            "text/plain": [
              "  trip_id          bike_type     start_time          end_time           \n",
              "1 BD0A6FF6FFF9B921 electric_bike 2020-11-01 13:36:00 2020-11-01 13:45:40\n",
              "2 96A7A7A4BDE4F82D electric_bike 2020-11-01 10:03:26 2020-11-01 10:14:45\n",
              "3 C61526D06582BDC5 electric_bike 2020-11-01 00:34:05 2020-11-01 01:03:06\n",
              "4 E533E89C32080B9E electric_bike 2020-11-01 00:45:16 2020-11-01 00:54:31\n",
              "5 1C9F4EF18C168C60 electric_bike 2020-11-01 15:43:25 2020-11-01 16:16:52\n",
              "6 7259585D8276D338 electric_bike 2020-11-14 15:55:17 2020-11-14 16:44:38\n",
              "  start_station_name        start_station_id end_station_name         \n",
              "1 Dearborn St & Erie St     110              St. Clair St & Erie St   \n",
              "2 Franklin St & Illinois St 672              Noble St & Milwaukee Ave \n",
              "3 Lake Shore Dr & Monroe St 76               Federal St & Polk St     \n",
              "4 Leavitt St & Chicago Ave  659              Stave St & Armitage Ave  \n",
              "5 Buckingham Fountain       2                Buckingham Fountain      \n",
              "6 Wabash Ave & 16th St      72               Lake Shore Dr & Monroe St\n",
              "  end_station_id rider_type\n",
              "1 211            casual    \n",
              "2 29             casual    \n",
              "3 41             casual    \n",
              "4 185            casual    \n",
              "5 2              casual    \n",
              "6 76             casual    "
            ],
            "text/latex": "A data.frame: 6 × 9\n\\begin{tabular}{r|lllllllll}\n  & trip\\_id & bike\\_type & start\\_time & end\\_time & start\\_station\\_name & start\\_station\\_id & end\\_station\\_name & end\\_station\\_id & rider\\_type\\\\\n  & <chr> & <chr> & <chr> & <chr> & <chr> & <chr> & <chr> & <chr> & <chr>\\\\\n\\hline\n\t1 & BD0A6FF6FFF9B921 & electric\\_bike & 2020-11-01 13:36:00 & 2020-11-01 13:45:40 & Dearborn St \\& Erie St     & 110 & St. Clair St \\& Erie St    & 211 & casual\\\\\n\t2 & 96A7A7A4BDE4F82D & electric\\_bike & 2020-11-01 10:03:26 & 2020-11-01 10:14:45 & Franklin St \\& Illinois St & 672 & Noble St \\& Milwaukee Ave  & 29  & casual\\\\\n\t3 & C61526D06582BDC5 & electric\\_bike & 2020-11-01 00:34:05 & 2020-11-01 01:03:06 & Lake Shore Dr \\& Monroe St & 76  & Federal St \\& Polk St      & 41  & casual\\\\\n\t4 & E533E89C32080B9E & electric\\_bike & 2020-11-01 00:45:16 & 2020-11-01 00:54:31 & Leavitt St \\& Chicago Ave  & 659 & Stave St \\& Armitage Ave   & 185 & casual\\\\\n\t5 & 1C9F4EF18C168C60 & electric\\_bike & 2020-11-01 15:43:25 & 2020-11-01 16:16:52 & Buckingham Fountain       & 2   & Buckingham Fountain       & 2   & casual\\\\\n\t6 & 7259585D8276D338 & electric\\_bike & 2020-11-14 15:55:17 & 2020-11-14 16:44:38 & Wabash Ave \\& 16th St      & 72  & Lake Shore Dr \\& Monroe St & 76  & casual\\\\\n\\end{tabular}\n",
            "text/markdown": "\nA data.frame: 6 × 9\n\n| <!--/--> | trip_id &lt;chr&gt; | bike_type &lt;chr&gt; | start_time &lt;chr&gt; | end_time &lt;chr&gt; | start_station_name &lt;chr&gt; | start_station_id &lt;chr&gt; | end_station_name &lt;chr&gt; | end_station_id &lt;chr&gt; | rider_type &lt;chr&gt; |\n|---|---|---|---|---|---|---|---|---|---|\n| 1 | BD0A6FF6FFF9B921 | electric_bike | 2020-11-01 13:36:00 | 2020-11-01 13:45:40 | Dearborn St &amp; Erie St     | 110 | St. Clair St &amp; Erie St    | 211 | casual |\n| 2 | 96A7A7A4BDE4F82D | electric_bike | 2020-11-01 10:03:26 | 2020-11-01 10:14:45 | Franklin St &amp; Illinois St | 672 | Noble St &amp; Milwaukee Ave  | 29  | casual |\n| 3 | C61526D06582BDC5 | electric_bike | 2020-11-01 00:34:05 | 2020-11-01 01:03:06 | Lake Shore Dr &amp; Monroe St | 76  | Federal St &amp; Polk St      | 41  | casual |\n| 4 | E533E89C32080B9E | electric_bike | 2020-11-01 00:45:16 | 2020-11-01 00:54:31 | Leavitt St &amp; Chicago Ave  | 659 | Stave St &amp; Armitage Ave   | 185 | casual |\n| 5 | 1C9F4EF18C168C60 | electric_bike | 2020-11-01 15:43:25 | 2020-11-01 16:16:52 | Buckingham Fountain       | 2   | Buckingham Fountain       | 2   | casual |\n| 6 | 7259585D8276D338 | electric_bike | 2020-11-14 15:55:17 | 2020-11-14 16:44:38 | Wabash Ave &amp; 16th St      | 72  | Lake Shore Dr &amp; Monroe St | 76  | casual |\n\n",
            "text/html": [
              "<table class=\"dataframe\">\n",
              "<caption>A data.frame: 6 × 9</caption>\n",
              "<thead>\n",
              "\t<tr><th></th><th scope=col>trip_id</th><th scope=col>bike_type</th><th scope=col>start_time</th><th scope=col>end_time</th><th scope=col>start_station_name</th><th scope=col>start_station_id</th><th scope=col>end_station_name</th><th scope=col>end_station_id</th><th scope=col>rider_type</th></tr>\n",
              "\t<tr><th></th><th scope=col>&lt;chr&gt;</th><th scope=col>&lt;chr&gt;</th><th scope=col>&lt;chr&gt;</th><th scope=col>&lt;chr&gt;</th><th scope=col>&lt;chr&gt;</th><th scope=col>&lt;chr&gt;</th><th scope=col>&lt;chr&gt;</th><th scope=col>&lt;chr&gt;</th><th scope=col>&lt;chr&gt;</th></tr>\n",
              "</thead>\n",
              "<tbody>\n",
              "\t<tr><th scope=row>1</th><td>BD0A6FF6FFF9B921</td><td>electric_bike</td><td>2020-11-01 13:36:00</td><td>2020-11-01 13:45:40</td><td><span style=white-space:pre-wrap>Dearborn St &amp; Erie St    </span></td><td>110</td><td><span style=white-space:pre-wrap>St. Clair St &amp; Erie St   </span></td><td>211</td><td>casual</td></tr>\n",
              "\t<tr><th scope=row>2</th><td>96A7A7A4BDE4F82D</td><td>electric_bike</td><td>2020-11-01 10:03:26</td><td>2020-11-01 10:14:45</td><td>Franklin St &amp; Illinois St</td><td>672</td><td>Noble St &amp; Milwaukee Ave </td><td>29 </td><td>casual</td></tr>\n",
              "\t<tr><th scope=row>3</th><td>C61526D06582BDC5</td><td>electric_bike</td><td>2020-11-01 00:34:05</td><td>2020-11-01 01:03:06</td><td>Lake Shore Dr &amp; Monroe St</td><td>76 </td><td><span style=white-space:pre-wrap>Federal St &amp; Polk St     </span></td><td>41 </td><td>casual</td></tr>\n",
              "\t<tr><th scope=row>4</th><td>E533E89C32080B9E</td><td>electric_bike</td><td>2020-11-01 00:45:16</td><td>2020-11-01 00:54:31</td><td>Leavitt St &amp; Chicago Ave </td><td>659</td><td><span style=white-space:pre-wrap>Stave St &amp; Armitage Ave  </span></td><td>185</td><td>casual</td></tr>\n",
              "\t<tr><th scope=row>5</th><td>1C9F4EF18C168C60</td><td>electric_bike</td><td>2020-11-01 15:43:25</td><td>2020-11-01 16:16:52</td><td>Buckingham Fountain      </td><td>2  </td><td>Buckingham Fountain      </td><td>2  </td><td>casual</td></tr>\n",
              "\t<tr><th scope=row>6</th><td>7259585D8276D338</td><td>electric_bike</td><td>2020-11-14 15:55:17</td><td>2020-11-14 16:44:38</td><td><span style=white-space:pre-wrap>Wabash Ave &amp; 16th St     </span></td><td>72 </td><td>Lake Shore Dr &amp; Monroe St</td><td>76 </td><td>casual</td></tr>\n",
              "</tbody>\n",
              "</table>\n"
            ]
          },
          "metadata": {}
        }
      ]
    },
    {
      "cell_type": "markdown",
      "metadata": {
        "id": "fR6d6cfo6Ua-"
      },
      "source": [
        "# Clean and Prepare Data for Analysis \n",
        "#  =====================================================================\n",
        "Add and Inspect new column to estimate trip duration"
      ]
    },
    {
      "cell_type": "markdown",
      "metadata": {
        "id": "Z2RVlKJUDbmG"
      },
      "source": [
        "# Estimate the time differences between rides start_time and the end_time"
      ]
    },
    {
      "cell_type": "code",
      "metadata": {
        "colab": {
          "base_uri": "https://localhost:8080/",
          "height": 286
        },
        "id": "OcCYDv-vOn5Z",
        "outputId": "bef8846f-55f8-45a5-d65f-46852cd61048"
      },
      "source": [
        "# Created new version of the dataframe (v_01) since data is being modified\n",
        "v_01 <- renamed_trips %>%\n",
        "                  select(start_time, end_time) %>%\n",
        "                  mutate(ride_length = difftime(end_time, start_time))\n",
        "head(ride_period)                                     "
      ],
      "execution_count": 18,
      "outputs": [
        {
          "output_type": "display_data",
          "data": {
            "text/plain": [
              "  start_time          end_time            ride_length\n",
              "1 2020-11-01 13:36:00 2020-11-01 13:45:40  580 secs  \n",
              "2 2020-11-01 10:03:26 2020-11-01 10:14:45  679 secs  \n",
              "3 2020-11-01 00:34:05 2020-11-01 01:03:06 1741 secs  \n",
              "4 2020-11-01 00:45:16 2020-11-01 00:54:31  555 secs  \n",
              "5 2020-11-01 15:43:25 2020-11-01 16:16:52 2007 secs  \n",
              "6 2020-11-14 15:55:17 2020-11-14 16:44:38 2961 secs  "
            ],
            "text/latex": "A data.frame: 6 × 3\n\\begin{tabular}{r|lll}\n  & start\\_time & end\\_time & ride\\_length\\\\\n  & <chr> & <chr> & <drtn>\\\\\n\\hline\n\t1 & 2020-11-01 13:36:00 & 2020-11-01 13:45:40 &  580 secs\\\\\n\t2 & 2020-11-01 10:03:26 & 2020-11-01 10:14:45 &  679 secs\\\\\n\t3 & 2020-11-01 00:34:05 & 2020-11-01 01:03:06 & 1741 secs\\\\\n\t4 & 2020-11-01 00:45:16 & 2020-11-01 00:54:31 &  555 secs\\\\\n\t5 & 2020-11-01 15:43:25 & 2020-11-01 16:16:52 & 2007 secs\\\\\n\t6 & 2020-11-14 15:55:17 & 2020-11-14 16:44:38 & 2961 secs\\\\\n\\end{tabular}\n",
            "text/markdown": "\nA data.frame: 6 × 3\n\n| <!--/--> | start_time &lt;chr&gt; | end_time &lt;chr&gt; | ride_length &lt;drtn&gt; |\n|---|---|---|---|\n| 1 | 2020-11-01 13:36:00 | 2020-11-01 13:45:40 |  580 secs |\n| 2 | 2020-11-01 10:03:26 | 2020-11-01 10:14:45 |  679 secs |\n| 3 | 2020-11-01 00:34:05 | 2020-11-01 01:03:06 | 1741 secs |\n| 4 | 2020-11-01 00:45:16 | 2020-11-01 00:54:31 |  555 secs |\n| 5 | 2020-11-01 15:43:25 | 2020-11-01 16:16:52 | 2007 secs |\n| 6 | 2020-11-14 15:55:17 | 2020-11-14 16:44:38 | 2961 secs |\n\n",
            "text/html": [
              "<table class=\"dataframe\">\n",
              "<caption>A data.frame: 6 × 3</caption>\n",
              "<thead>\n",
              "\t<tr><th></th><th scope=col>start_time</th><th scope=col>end_time</th><th scope=col>ride_length</th></tr>\n",
              "\t<tr><th></th><th scope=col>&lt;chr&gt;</th><th scope=col>&lt;chr&gt;</th><th scope=col>&lt;drtn&gt;</th></tr>\n",
              "</thead>\n",
              "<tbody>\n",
              "\t<tr><th scope=row>1</th><td>2020-11-01 13:36:00</td><td>2020-11-01 13:45:40</td><td> 580 secs</td></tr>\n",
              "\t<tr><th scope=row>2</th><td>2020-11-01 10:03:26</td><td>2020-11-01 10:14:45</td><td> 679 secs</td></tr>\n",
              "\t<tr><th scope=row>3</th><td>2020-11-01 00:34:05</td><td>2020-11-01 01:03:06</td><td>1741 secs</td></tr>\n",
              "\t<tr><th scope=row>4</th><td>2020-11-01 00:45:16</td><td>2020-11-01 00:54:31</td><td> 555 secs</td></tr>\n",
              "\t<tr><th scope=row>5</th><td>2020-11-01 15:43:25</td><td>2020-11-01 16:16:52</td><td>2007 secs</td></tr>\n",
              "\t<tr><th scope=row>6</th><td>2020-11-14 15:55:17</td><td>2020-11-14 16:44:38</td><td>2961 secs</td></tr>\n",
              "</tbody>\n",
              "</table>\n"
            ]
          },
          "metadata": {}
        }
      ]
    },
    {
      "cell_type": "markdown",
      "metadata": {
        "id": "7FvfIZf4pJb6"
      },
      "source": [
        " ## Created new version of the dataframe (v_02) for day_of_week\n",
        " This yields the two user/rider types that we are interested for the analysis: members and casual riders"
      ]
    },
    {
      "cell_type": "code",
      "metadata": {
        "colab": {
          "base_uri": "https://localhost:8080/",
          "height": 514
        },
        "id": "SkWmBkynVhNQ",
        "outputId": "1e4e7b16-71b1-4011-aa3d-4f3eba2a2662"
      },
      "source": [
        "v_02 <- renamed_trips %>% \n",
        "  mutate(day_of_week = weekdays(as.Date(renamed_trips$start_time)))\n",
        "head(v_02)"
      ],
      "execution_count": 21,
      "outputs": [
        {
          "output_type": "display_data",
          "data": {
            "text/plain": [
              "  trip_id          bike_type     start_time          end_time           \n",
              "1 BD0A6FF6FFF9B921 electric_bike 2020-11-01 13:36:00 2020-11-01 13:45:40\n",
              "2 96A7A7A4BDE4F82D electric_bike 2020-11-01 10:03:26 2020-11-01 10:14:45\n",
              "3 C61526D06582BDC5 electric_bike 2020-11-01 00:34:05 2020-11-01 01:03:06\n",
              "4 E533E89C32080B9E electric_bike 2020-11-01 00:45:16 2020-11-01 00:54:31\n",
              "5 1C9F4EF18C168C60 electric_bike 2020-11-01 15:43:25 2020-11-01 16:16:52\n",
              "6 7259585D8276D338 electric_bike 2020-11-14 15:55:17 2020-11-14 16:44:38\n",
              "  start_station_name        start_station_id end_station_name         \n",
              "1 Dearborn St & Erie St     110              St. Clair St & Erie St   \n",
              "2 Franklin St & Illinois St 672              Noble St & Milwaukee Ave \n",
              "3 Lake Shore Dr & Monroe St 76               Federal St & Polk St     \n",
              "4 Leavitt St & Chicago Ave  659              Stave St & Armitage Ave  \n",
              "5 Buckingham Fountain       2                Buckingham Fountain      \n",
              "6 Wabash Ave & 16th St      72               Lake Shore Dr & Monroe St\n",
              "  end_station_id rider_type day_of_week\n",
              "1 211            casual     Sunday     \n",
              "2 29             casual     Sunday     \n",
              "3 41             casual     Sunday     \n",
              "4 185            casual     Sunday     \n",
              "5 2              casual     Sunday     \n",
              "6 76             casual     Saturday   "
            ],
            "text/latex": "A data.frame: 6 × 10\n\\begin{tabular}{r|llllllllll}\n  & trip\\_id & bike\\_type & start\\_time & end\\_time & start\\_station\\_name & start\\_station\\_id & end\\_station\\_name & end\\_station\\_id & rider\\_type & day\\_of\\_week\\\\\n  & <chr> & <chr> & <chr> & <chr> & <chr> & <chr> & <chr> & <chr> & <chr> & <chr>\\\\\n\\hline\n\t1 & BD0A6FF6FFF9B921 & electric\\_bike & 2020-11-01 13:36:00 & 2020-11-01 13:45:40 & Dearborn St \\& Erie St     & 110 & St. Clair St \\& Erie St    & 211 & casual & Sunday  \\\\\n\t2 & 96A7A7A4BDE4F82D & electric\\_bike & 2020-11-01 10:03:26 & 2020-11-01 10:14:45 & Franklin St \\& Illinois St & 672 & Noble St \\& Milwaukee Ave  & 29  & casual & Sunday  \\\\\n\t3 & C61526D06582BDC5 & electric\\_bike & 2020-11-01 00:34:05 & 2020-11-01 01:03:06 & Lake Shore Dr \\& Monroe St & 76  & Federal St \\& Polk St      & 41  & casual & Sunday  \\\\\n\t4 & E533E89C32080B9E & electric\\_bike & 2020-11-01 00:45:16 & 2020-11-01 00:54:31 & Leavitt St \\& Chicago Ave  & 659 & Stave St \\& Armitage Ave   & 185 & casual & Sunday  \\\\\n\t5 & 1C9F4EF18C168C60 & electric\\_bike & 2020-11-01 15:43:25 & 2020-11-01 16:16:52 & Buckingham Fountain       & 2   & Buckingham Fountain       & 2   & casual & Sunday  \\\\\n\t6 & 7259585D8276D338 & electric\\_bike & 2020-11-14 15:55:17 & 2020-11-14 16:44:38 & Wabash Ave \\& 16th St      & 72  & Lake Shore Dr \\& Monroe St & 76  & casual & Saturday\\\\\n\\end{tabular}\n",
            "text/markdown": "\nA data.frame: 6 × 10\n\n| <!--/--> | trip_id &lt;chr&gt; | bike_type &lt;chr&gt; | start_time &lt;chr&gt; | end_time &lt;chr&gt; | start_station_name &lt;chr&gt; | start_station_id &lt;chr&gt; | end_station_name &lt;chr&gt; | end_station_id &lt;chr&gt; | rider_type &lt;chr&gt; | day_of_week &lt;chr&gt; |\n|---|---|---|---|---|---|---|---|---|---|---|\n| 1 | BD0A6FF6FFF9B921 | electric_bike | 2020-11-01 13:36:00 | 2020-11-01 13:45:40 | Dearborn St &amp; Erie St     | 110 | St. Clair St &amp; Erie St    | 211 | casual | Sunday   |\n| 2 | 96A7A7A4BDE4F82D | electric_bike | 2020-11-01 10:03:26 | 2020-11-01 10:14:45 | Franklin St &amp; Illinois St | 672 | Noble St &amp; Milwaukee Ave  | 29  | casual | Sunday   |\n| 3 | C61526D06582BDC5 | electric_bike | 2020-11-01 00:34:05 | 2020-11-01 01:03:06 | Lake Shore Dr &amp; Monroe St | 76  | Federal St &amp; Polk St      | 41  | casual | Sunday   |\n| 4 | E533E89C32080B9E | electric_bike | 2020-11-01 00:45:16 | 2020-11-01 00:54:31 | Leavitt St &amp; Chicago Ave  | 659 | Stave St &amp; Armitage Ave   | 185 | casual | Sunday   |\n| 5 | 1C9F4EF18C168C60 | electric_bike | 2020-11-01 15:43:25 | 2020-11-01 16:16:52 | Buckingham Fountain       | 2   | Buckingham Fountain       | 2   | casual | Sunday   |\n| 6 | 7259585D8276D338 | electric_bike | 2020-11-14 15:55:17 | 2020-11-14 16:44:38 | Wabash Ave &amp; 16th St      | 72  | Lake Shore Dr &amp; Monroe St | 76  | casual | Saturday |\n\n",
            "text/html": [
              "<table class=\"dataframe\">\n",
              "<caption>A data.frame: 6 × 10</caption>\n",
              "<thead>\n",
              "\t<tr><th></th><th scope=col>trip_id</th><th scope=col>bike_type</th><th scope=col>start_time</th><th scope=col>end_time</th><th scope=col>start_station_name</th><th scope=col>start_station_id</th><th scope=col>end_station_name</th><th scope=col>end_station_id</th><th scope=col>rider_type</th><th scope=col>day_of_week</th></tr>\n",
              "\t<tr><th></th><th scope=col>&lt;chr&gt;</th><th scope=col>&lt;chr&gt;</th><th scope=col>&lt;chr&gt;</th><th scope=col>&lt;chr&gt;</th><th scope=col>&lt;chr&gt;</th><th scope=col>&lt;chr&gt;</th><th scope=col>&lt;chr&gt;</th><th scope=col>&lt;chr&gt;</th><th scope=col>&lt;chr&gt;</th><th scope=col>&lt;chr&gt;</th></tr>\n",
              "</thead>\n",
              "<tbody>\n",
              "\t<tr><th scope=row>1</th><td>BD0A6FF6FFF9B921</td><td>electric_bike</td><td>2020-11-01 13:36:00</td><td>2020-11-01 13:45:40</td><td><span style=white-space:pre-wrap>Dearborn St &amp; Erie St    </span></td><td>110</td><td><span style=white-space:pre-wrap>St. Clair St &amp; Erie St   </span></td><td>211</td><td>casual</td><td><span style=white-space:pre-wrap>Sunday  </span></td></tr>\n",
              "\t<tr><th scope=row>2</th><td>96A7A7A4BDE4F82D</td><td>electric_bike</td><td>2020-11-01 10:03:26</td><td>2020-11-01 10:14:45</td><td>Franklin St &amp; Illinois St</td><td>672</td><td>Noble St &amp; Milwaukee Ave </td><td>29 </td><td>casual</td><td><span style=white-space:pre-wrap>Sunday  </span></td></tr>\n",
              "\t<tr><th scope=row>3</th><td>C61526D06582BDC5</td><td>electric_bike</td><td>2020-11-01 00:34:05</td><td>2020-11-01 01:03:06</td><td>Lake Shore Dr &amp; Monroe St</td><td>76 </td><td><span style=white-space:pre-wrap>Federal St &amp; Polk St     </span></td><td>41 </td><td>casual</td><td><span style=white-space:pre-wrap>Sunday  </span></td></tr>\n",
              "\t<tr><th scope=row>4</th><td>E533E89C32080B9E</td><td>electric_bike</td><td>2020-11-01 00:45:16</td><td>2020-11-01 00:54:31</td><td>Leavitt St &amp; Chicago Ave </td><td>659</td><td><span style=white-space:pre-wrap>Stave St &amp; Armitage Ave  </span></td><td>185</td><td>casual</td><td><span style=white-space:pre-wrap>Sunday  </span></td></tr>\n",
              "\t<tr><th scope=row>5</th><td>1C9F4EF18C168C60</td><td>electric_bike</td><td>2020-11-01 15:43:25</td><td>2020-11-01 16:16:52</td><td>Buckingham Fountain      </td><td>2  </td><td>Buckingham Fountain      </td><td>2  </td><td>casual</td><td>Sunday  </td></tr>\n",
              "\t<tr><th scope=row>6</th><td>7259585D8276D338</td><td>electric_bike</td><td>2020-11-14 15:55:17</td><td>2020-11-14 16:44:38</td><td><span style=white-space:pre-wrap>Wabash Ave &amp; 16th St     </span></td><td>72 </td><td>Lake Shore Dr &amp; Monroe St</td><td>76 </td><td>casual</td><td>Saturday</td></tr>\n",
              "</tbody>\n",
              "</table>\n"
            ]
          },
          "metadata": {}
        }
      ]
    },
    {
      "cell_type": "markdown",
      "metadata": {
        "id": "24ML2k_fLtly"
      },
      "source": [
        "## Create a new version of the dataframe (v_03) by inner join dataframes V_01 and V_02"
      ]
    },
    {
      "cell_type": "code",
      "metadata": {
        "colab": {
          "base_uri": "https://localhost:8080/",
          "height": 514
        },
        "id": "zCzAD_duvS5A",
        "outputId": "b7cad0a6-0ede-4fa3-f0c2-caa8a9d129aa"
      },
      "source": [
        "v_03 <- merge(v_01, v_02, c(\"start_time\", \"end_time\")) # inner join dataframes v_01, v_02\n",
        "head(v_03)"
      ],
      "execution_count": 26,
      "outputs": [
        {
          "output_type": "display_data",
          "data": {
            "text/plain": [
              "  start_time          end_time            ride_length trip_id         \n",
              "1 2020-11-01 00:00:08 2020-11-01 00:35:08 2100 secs   D0C1A65AFC859916\n",
              "2 2020-11-01 00:00:14 2020-11-01 00:02:20  126 secs   985AD418D8ED316C\n",
              "3 2020-11-01 00:00:22 2020-11-01 00:06:21  359 secs   AB459A840CF1BBF8\n",
              "4 2020-11-01 00:00:52 2020-11-01 00:04:45  233 secs   5239202FF2A38305\n",
              "5 2020-11-01 00:00:57 2020-11-01 00:04:24  207 secs   587849ED1D5F0CBA\n",
              "6 2020-11-01 00:01:20 2020-11-01 00:09:18  478 secs   33A07F3AD7C6451E\n",
              "  bike_type     start_station_name        start_station_id\n",
              "1 docked_bike   Broadway & Barry Ave      300             \n",
              "2 docked_bike   Desplaines St & Kinzie St 56              \n",
              "3 docked_bike   Broadway & Cornelia Ave   303             \n",
              "4 electric_bike Wells St & Evergreen Ave  291             \n",
              "5 electric_bike Wells St & Evergreen Ave  291             \n",
              "6 docked_bike   Dearborn St & Erie St     110             \n",
              "  end_station_name             end_station_id rider_type day_of_week\n",
              "1 Broadway & Barry Ave         300            casual     Sunday     \n",
              "2 Desplaines St & Randolph St  96             member     Sunday     \n",
              "3 Sheridan Rd & Irving Park Rd 240            member     Sunday     \n",
              "4 Franklin St & Chicago Ave    31             casual     Sunday     \n",
              "5 Franklin St & Chicago Ave    31             member     Sunday     \n",
              "6 Wells St & Evergreen Ave     291            casual     Sunday     "
            ],
            "text/latex": "A data.frame: 6 × 11\n\\begin{tabular}{r|lllllllllll}\n  & start\\_time & end\\_time & ride\\_length & trip\\_id & bike\\_type & start\\_station\\_name & start\\_station\\_id & end\\_station\\_name & end\\_station\\_id & rider\\_type & day\\_of\\_week\\\\\n  & <chr> & <chr> & <drtn> & <chr> & <chr> & <chr> & <chr> & <chr> & <chr> & <chr> & <chr>\\\\\n\\hline\n\t1 & 2020-11-01 00:00:08 & 2020-11-01 00:35:08 & 2100 secs & D0C1A65AFC859916 & docked\\_bike   & Broadway \\& Barry Ave      & 300 & Broadway \\& Barry Ave         & 300 & casual & Sunday\\\\\n\t2 & 2020-11-01 00:00:14 & 2020-11-01 00:02:20 &  126 secs & 985AD418D8ED316C & docked\\_bike   & Desplaines St \\& Kinzie St & 56  & Desplaines St \\& Randolph St  & 96  & member & Sunday\\\\\n\t3 & 2020-11-01 00:00:22 & 2020-11-01 00:06:21 &  359 secs & AB459A840CF1BBF8 & docked\\_bike   & Broadway \\& Cornelia Ave   & 303 & Sheridan Rd \\& Irving Park Rd & 240 & member & Sunday\\\\\n\t4 & 2020-11-01 00:00:52 & 2020-11-01 00:04:45 &  233 secs & 5239202FF2A38305 & electric\\_bike & Wells St \\& Evergreen Ave  & 291 & Franklin St \\& Chicago Ave    & 31  & casual & Sunday\\\\\n\t5 & 2020-11-01 00:00:57 & 2020-11-01 00:04:24 &  207 secs & 587849ED1D5F0CBA & electric\\_bike & Wells St \\& Evergreen Ave  & 291 & Franklin St \\& Chicago Ave    & 31  & member & Sunday\\\\\n\t6 & 2020-11-01 00:01:20 & 2020-11-01 00:09:18 &  478 secs & 33A07F3AD7C6451E & docked\\_bike   & Dearborn St \\& Erie St     & 110 & Wells St \\& Evergreen Ave     & 291 & casual & Sunday\\\\\n\\end{tabular}\n",
            "text/markdown": "\nA data.frame: 6 × 11\n\n| <!--/--> | start_time &lt;chr&gt; | end_time &lt;chr&gt; | ride_length &lt;drtn&gt; | trip_id &lt;chr&gt; | bike_type &lt;chr&gt; | start_station_name &lt;chr&gt; | start_station_id &lt;chr&gt; | end_station_name &lt;chr&gt; | end_station_id &lt;chr&gt; | rider_type &lt;chr&gt; | day_of_week &lt;chr&gt; |\n|---|---|---|---|---|---|---|---|---|---|---|---|\n| 1 | 2020-11-01 00:00:08 | 2020-11-01 00:35:08 | 2100 secs | D0C1A65AFC859916 | docked_bike   | Broadway &amp; Barry Ave      | 300 | Broadway &amp; Barry Ave         | 300 | casual | Sunday |\n| 2 | 2020-11-01 00:00:14 | 2020-11-01 00:02:20 |  126 secs | 985AD418D8ED316C | docked_bike   | Desplaines St &amp; Kinzie St | 56  | Desplaines St &amp; Randolph St  | 96  | member | Sunday |\n| 3 | 2020-11-01 00:00:22 | 2020-11-01 00:06:21 |  359 secs | AB459A840CF1BBF8 | docked_bike   | Broadway &amp; Cornelia Ave   | 303 | Sheridan Rd &amp; Irving Park Rd | 240 | member | Sunday |\n| 4 | 2020-11-01 00:00:52 | 2020-11-01 00:04:45 |  233 secs | 5239202FF2A38305 | electric_bike | Wells St &amp; Evergreen Ave  | 291 | Franklin St &amp; Chicago Ave    | 31  | casual | Sunday |\n| 5 | 2020-11-01 00:00:57 | 2020-11-01 00:04:24 |  207 secs | 587849ED1D5F0CBA | electric_bike | Wells St &amp; Evergreen Ave  | 291 | Franklin St &amp; Chicago Ave    | 31  | member | Sunday |\n| 6 | 2020-11-01 00:01:20 | 2020-11-01 00:09:18 |  478 secs | 33A07F3AD7C6451E | docked_bike   | Dearborn St &amp; Erie St     | 110 | Wells St &amp; Evergreen Ave     | 291 | casual | Sunday |\n\n",
            "text/html": [
              "<table class=\"dataframe\">\n",
              "<caption>A data.frame: 6 × 11</caption>\n",
              "<thead>\n",
              "\t<tr><th></th><th scope=col>start_time</th><th scope=col>end_time</th><th scope=col>ride_length</th><th scope=col>trip_id</th><th scope=col>bike_type</th><th scope=col>start_station_name</th><th scope=col>start_station_id</th><th scope=col>end_station_name</th><th scope=col>end_station_id</th><th scope=col>rider_type</th><th scope=col>day_of_week</th></tr>\n",
              "\t<tr><th></th><th scope=col>&lt;chr&gt;</th><th scope=col>&lt;chr&gt;</th><th scope=col>&lt;drtn&gt;</th><th scope=col>&lt;chr&gt;</th><th scope=col>&lt;chr&gt;</th><th scope=col>&lt;chr&gt;</th><th scope=col>&lt;chr&gt;</th><th scope=col>&lt;chr&gt;</th><th scope=col>&lt;chr&gt;</th><th scope=col>&lt;chr&gt;</th><th scope=col>&lt;chr&gt;</th></tr>\n",
              "</thead>\n",
              "<tbody>\n",
              "\t<tr><th scope=row>1</th><td>2020-11-01 00:00:08</td><td>2020-11-01 00:35:08</td><td>2100 secs</td><td>D0C1A65AFC859916</td><td><span style=white-space:pre-wrap>docked_bike  </span></td><td><span style=white-space:pre-wrap>Broadway &amp; Barry Ave     </span></td><td>300</td><td><span style=white-space:pre-wrap>Broadway &amp; Barry Ave        </span></td><td>300</td><td>casual</td><td>Sunday</td></tr>\n",
              "\t<tr><th scope=row>2</th><td>2020-11-01 00:00:14</td><td>2020-11-01 00:02:20</td><td> 126 secs</td><td>985AD418D8ED316C</td><td><span style=white-space:pre-wrap>docked_bike  </span></td><td>Desplaines St &amp; Kinzie St</td><td>56 </td><td>Desplaines St &amp; Randolph St </td><td>96 </td><td>member</td><td>Sunday</td></tr>\n",
              "\t<tr><th scope=row>3</th><td>2020-11-01 00:00:22</td><td>2020-11-01 00:06:21</td><td> 359 secs</td><td>AB459A840CF1BBF8</td><td><span style=white-space:pre-wrap>docked_bike  </span></td><td><span style=white-space:pre-wrap>Broadway &amp; Cornelia Ave  </span></td><td>303</td><td>Sheridan Rd &amp; Irving Park Rd</td><td>240</td><td>member</td><td>Sunday</td></tr>\n",
              "\t<tr><th scope=row>4</th><td>2020-11-01 00:00:52</td><td>2020-11-01 00:04:45</td><td> 233 secs</td><td>5239202FF2A38305</td><td>electric_bike</td><td>Wells St &amp; Evergreen Ave </td><td>291</td><td><span style=white-space:pre-wrap>Franklin St &amp; Chicago Ave   </span></td><td>31 </td><td>casual</td><td>Sunday</td></tr>\n",
              "\t<tr><th scope=row>5</th><td>2020-11-01 00:00:57</td><td>2020-11-01 00:04:24</td><td> 207 secs</td><td>587849ED1D5F0CBA</td><td>electric_bike</td><td>Wells St &amp; Evergreen Ave </td><td>291</td><td><span style=white-space:pre-wrap>Franklin St &amp; Chicago Ave   </span></td><td>31 </td><td>member</td><td>Sunday</td></tr>\n",
              "\t<tr><th scope=row>6</th><td>2020-11-01 00:01:20</td><td>2020-11-01 00:09:18</td><td> 478 secs</td><td>33A07F3AD7C6451E</td><td><span style=white-space:pre-wrap>docked_bike  </span></td><td><span style=white-space:pre-wrap>Dearborn St &amp; Erie St    </span></td><td>110</td><td><span style=white-space:pre-wrap>Wells St &amp; Evergreen Ave    </span></td><td>291</td><td>casual</td><td>Sunday</td></tr>\n",
              "</tbody>\n",
              "</table>\n"
            ]
          },
          "metadata": {}
        }
      ]
    },
    {
      "cell_type": "markdown",
      "metadata": {
        "id": "PU7wzmKpbfKI"
      },
      "source": [
        "# Descriptive analysis on the ride_length\n",
        "## ========================================================================"
      ]
    },
    {
      "cell_type": "markdown",
      "metadata": {
        "id": "PDbdxigKCoh0"
      },
      "source": [
        "## Analysis on ride_length (all figures in seconds"
      ]
    },
    {
      "cell_type": "code",
      "metadata": {
        "colab": {
          "base_uri": "https://localhost:8080/",
          "height": 34
        },
        "id": "95xeyW6kIJoo",
        "outputId": "3eb9fb02-10ca-4442-e577-e7c942e9949d"
      },
      "source": [
        "\n",
        "  mean(v_03$ride_length, na.rm = TRUE) #straight average (total ride length / rides)\n"
      ],
      "execution_count": 27,
      "outputs": [
        {
          "output_type": "display_data",
          "data": {
            "text/plain": [
              "Time difference of 1229.301 secs"
            ]
          },
          "metadata": {}
        }
      ]
    },
    {
      "cell_type": "code",
      "metadata": {
        "colab": {
          "base_uri": "https://localhost:8080/",
          "height": 34
        },
        "id": "tuUnBa72CJmV",
        "outputId": "28873dfa-88dd-4408-e1da-888fe99e9c96"
      },
      "source": [
        "max(v_03$ride_length, na.rm = TRUE) #longest ride period"
      ],
      "execution_count": 29,
      "outputs": [
        {
          "output_type": "display_data",
          "data": {
            "text/plain": [
              "Time difference of 3356649 secs"
            ]
          },
          "metadata": {}
        }
      ]
    },
    {
      "cell_type": "markdown",
      "metadata": {
        "id": "vRmxrM57GCvw"
      },
      "source": [
        "## Comparing the members and casual users using central tendency\n",
        "\n"
      ]
    },
    {
      "cell_type": "code",
      "metadata": {
        "colab": {
          "base_uri": "https://localhost:8080/",
          "height": 161
        },
        "id": "jJrVDXlxlHcr",
        "outputId": "8dcffa6f-a97c-4377-81cf-d505ada32316"
      },
      "source": [
        "aggregate(v_03$ride_length ~ v_03$rider_type, FUN = mean)"
      ],
      "execution_count": 31,
      "outputs": [
        {
          "output_type": "display_data",
          "data": {
            "text/plain": [
              "  v_03$rider_type v_03$ride_length\n",
              "1 casual          1898.1023 secs  \n",
              "2 member           661.1294 secs  "
            ],
            "text/latex": "A data.frame: 2 × 2\n\\begin{tabular}{ll}\n v\\_03\\$rider\\_type & v\\_03\\$ride\\_length\\\\\n <chr> & <drtn>\\\\\n\\hline\n\t casual & 1898.1023 secs\\\\\n\t member &  661.1294 secs\\\\\n\\end{tabular}\n",
            "text/markdown": "\nA data.frame: 2 × 2\n\n| v_03$rider_type &lt;chr&gt; | v_03$ride_length &lt;drtn&gt; |\n|---|---|\n| casual | 1898.1023 secs |\n| member |  661.1294 secs |\n\n",
            "text/html": [
              "<table class=\"dataframe\">\n",
              "<caption>A data.frame: 2 × 2</caption>\n",
              "<thead>\n",
              "\t<tr><th scope=col>v_03$rider_type</th><th scope=col>v_03$ride_length</th></tr>\n",
              "\t<tr><th scope=col>&lt;chr&gt;</th><th scope=col>&lt;drtn&gt;</th></tr>\n",
              "</thead>\n",
              "<tbody>\n",
              "\t<tr><td>casual</td><td>1898.1023 secs</td></tr>\n",
              "\t<tr><td>member</td><td> 661.1294 secs</td></tr>\n",
              "</tbody>\n",
              "</table>\n"
            ]
          },
          "metadata": {}
        }
      ]
    },
    {
      "cell_type": "code",
      "metadata": {
        "colab": {
          "base_uri": "https://localhost:8080/",
          "height": 161
        },
        "id": "OBTpHBZuI2GI",
        "outputId": "714b4fc7-eef4-4481-d07c-71564404ca21"
      },
      "source": [
        "aggregate(v_03$ride_length ~ v_03$rider_type, FUN = median)"
      ],
      "execution_count": 32,
      "outputs": [
        {
          "output_type": "display_data",
          "data": {
            "text/plain": [
              "  v_03$rider_type v_03$ride_length\n",
              "1 casual          982 secs        \n",
              "2 member          594 secs        "
            ],
            "text/latex": "A data.frame: 2 × 2\n\\begin{tabular}{ll}\n v\\_03\\$rider\\_type & v\\_03\\$ride\\_length\\\\\n <chr> & <drtn>\\\\\n\\hline\n\t casual & 982 secs\\\\\n\t member & 594 secs\\\\\n\\end{tabular}\n",
            "text/markdown": "\nA data.frame: 2 × 2\n\n| v_03$rider_type &lt;chr&gt; | v_03$ride_length &lt;drtn&gt; |\n|---|---|\n| casual | 982 secs |\n| member | 594 secs |\n\n",
            "text/html": [
              "<table class=\"dataframe\">\n",
              "<caption>A data.frame: 2 × 2</caption>\n",
              "<thead>\n",
              "\t<tr><th scope=col>v_03$rider_type</th><th scope=col>v_03$ride_length</th></tr>\n",
              "\t<tr><th scope=col>&lt;chr&gt;</th><th scope=col>&lt;drtn&gt;</th></tr>\n",
              "</thead>\n",
              "<tbody>\n",
              "\t<tr><td>casual</td><td>982 secs</td></tr>\n",
              "\t<tr><td>member</td><td>594 secs</td></tr>\n",
              "</tbody>\n",
              "</table>\n"
            ]
          },
          "metadata": {}
        }
      ]
    },
    {
      "cell_type": "code",
      "metadata": {
        "colab": {
          "base_uri": "https://localhost:8080/",
          "height": 161
        },
        "id": "yNxis6zsDrcF",
        "outputId": "c6914357-595d-44aa-eafd-92907e4bf55d"
      },
      "source": [
        "aggregate(v_03$ride_length ~ v_03$rider_type, FUN = max)"
      ],
      "execution_count": 38,
      "outputs": [
        {
          "output_type": "display_data",
          "data": {
            "text/plain": [
              "  v_03$rider_type v_03$ride_length\n",
              "1 casual          3356649 secs    \n",
              "2 member            93596 secs    "
            ],
            "text/latex": "A data.frame: 2 × 2\n\\begin{tabular}{ll}\n v\\_03\\$rider\\_type & v\\_03\\$ride\\_length\\\\\n <chr> & <drtn>\\\\\n\\hline\n\t casual & 3356649 secs\\\\\n\t member &   93596 secs\\\\\n\\end{tabular}\n",
            "text/markdown": "\nA data.frame: 2 × 2\n\n| v_03$rider_type &lt;chr&gt; | v_03$ride_length &lt;drtn&gt; |\n|---|---|\n| casual | 3356649 secs |\n| member |   93596 secs |\n\n",
            "text/html": [
              "<table class=\"dataframe\">\n",
              "<caption>A data.frame: 2 × 2</caption>\n",
              "<thead>\n",
              "\t<tr><th scope=col>v_03$rider_type</th><th scope=col>v_03$ride_length</th></tr>\n",
              "\t<tr><th scope=col>&lt;chr&gt;</th><th scope=col>&lt;drtn&gt;</th></tr>\n",
              "</thead>\n",
              "<tbody>\n",
              "\t<tr><td>casual</td><td>3356649 secs</td></tr>\n",
              "\t<tr><td>member</td><td>  93596 secs</td></tr>\n",
              "</tbody>\n",
              "</table>\n"
            ]
          },
          "metadata": {}
        }
      ]
    },
    {
      "cell_type": "markdown",
      "metadata": {
        "id": "v22NtP8ZKOgg"
      },
      "source": [
        "## Average ride time per \"day of the week\" for members versus casual users(rider_types) "
      ]
    },
    {
      "cell_type": "code",
      "metadata": {
        "colab": {
          "base_uri": "https://localhost:8080/",
          "height": 537
        },
        "id": "Lncwe6M4KlUz",
        "outputId": "ba760877-d050-4cb5-94c4-fe801eff208e"
      },
      "source": [
        "aggregate(v_03$ride_length ~ v_03$rider_type + v_03$day_of_week, FUN = mean)"
      ],
      "execution_count": 45,
      "outputs": [
        {
          "output_type": "display_data",
          "data": {
            "text/plain": [
              "   v_03$rider_type v_03$day_of_week v_03$ride_length\n",
              "1  casual          Friday           1854.1595 secs  \n",
              "2  member          Friday            819.5205 secs  \n",
              "3  casual          Monday           1938.8425 secs  \n",
              "4  member          Monday            810.8918 secs  \n",
              "5  casual          Saturday         2108.9185 secs  \n",
              "6  member          Saturday          933.0703 secs  \n",
              "7  casual          Sunday           2285.5458 secs  \n",
              "8  member          Sunday            954.7824 secs  \n",
              "9  casual          Thursday         1691.8719 secs  \n",
              "10 member          Thursday          785.8740 secs  \n",
              "11 casual          Tuesday          1204.4703 secs  \n",
              "12 member          Tuesday          -401.8971 secs  \n",
              "13 casual          Wednesday        1688.5490 secs  \n",
              "14 member          Wednesday         789.8299 secs  "
            ],
            "text/latex": "A data.frame: 14 × 3\n\\begin{tabular}{lll}\n v\\_03\\$rider\\_type & v\\_03\\$day\\_of\\_week & v\\_03\\$ride\\_length\\\\\n <chr> & <chr> & <drtn>\\\\\n\\hline\n\t casual & Friday    & 1854.1595 secs\\\\\n\t member & Friday    &  819.5205 secs\\\\\n\t casual & Monday    & 1938.8425 secs\\\\\n\t member & Monday    &  810.8918 secs\\\\\n\t casual & Saturday  & 2108.9185 secs\\\\\n\t member & Saturday  &  933.0703 secs\\\\\n\t casual & Sunday    & 2285.5458 secs\\\\\n\t member & Sunday    &  954.7824 secs\\\\\n\t casual & Thursday  & 1691.8719 secs\\\\\n\t member & Thursday  &  785.8740 secs\\\\\n\t casual & Tuesday   & 1204.4703 secs\\\\\n\t member & Tuesday   & -401.8971 secs\\\\\n\t casual & Wednesday & 1688.5490 secs\\\\\n\t member & Wednesday &  789.8299 secs\\\\\n\\end{tabular}\n",
            "text/markdown": "\nA data.frame: 14 × 3\n\n| v_03$rider_type &lt;chr&gt; | v_03$day_of_week &lt;chr&gt; | v_03$ride_length &lt;drtn&gt; |\n|---|---|---|\n| casual | Friday    | 1854.1595 secs |\n| member | Friday    |  819.5205 secs |\n| casual | Monday    | 1938.8425 secs |\n| member | Monday    |  810.8918 secs |\n| casual | Saturday  | 2108.9185 secs |\n| member | Saturday  |  933.0703 secs |\n| casual | Sunday    | 2285.5458 secs |\n| member | Sunday    |  954.7824 secs |\n| casual | Thursday  | 1691.8719 secs |\n| member | Thursday  |  785.8740 secs |\n| casual | Tuesday   | 1204.4703 secs |\n| member | Tuesday   | -401.8971 secs |\n| casual | Wednesday | 1688.5490 secs |\n| member | Wednesday |  789.8299 secs |\n\n",
            "text/html": [
              "<table class=\"dataframe\">\n",
              "<caption>A data.frame: 14 × 3</caption>\n",
              "<thead>\n",
              "\t<tr><th scope=col>v_03$rider_type</th><th scope=col>v_03$day_of_week</th><th scope=col>v_03$ride_length</th></tr>\n",
              "\t<tr><th scope=col>&lt;chr&gt;</th><th scope=col>&lt;chr&gt;</th><th scope=col>&lt;drtn&gt;</th></tr>\n",
              "</thead>\n",
              "<tbody>\n",
              "\t<tr><td>casual</td><td>Friday   </td><td>1854.1595 secs</td></tr>\n",
              "\t<tr><td>member</td><td>Friday   </td><td> 819.5205 secs</td></tr>\n",
              "\t<tr><td>casual</td><td>Monday   </td><td>1938.8425 secs</td></tr>\n",
              "\t<tr><td>member</td><td>Monday   </td><td> 810.8918 secs</td></tr>\n",
              "\t<tr><td>casual</td><td>Saturday </td><td>2108.9185 secs</td></tr>\n",
              "\t<tr><td>member</td><td>Saturday </td><td> 933.0703 secs</td></tr>\n",
              "\t<tr><td>casual</td><td>Sunday   </td><td>2285.5458 secs</td></tr>\n",
              "\t<tr><td>member</td><td>Sunday   </td><td> 954.7824 secs</td></tr>\n",
              "\t<tr><td>casual</td><td>Thursday </td><td>1691.8719 secs</td></tr>\n",
              "\t<tr><td>member</td><td>Thursday </td><td> 785.8740 secs</td></tr>\n",
              "\t<tr><td>casual</td><td>Tuesday  </td><td>1204.4703 secs</td></tr>\n",
              "\t<tr><td>member</td><td>Tuesday  </td><td>-401.8971 secs</td></tr>\n",
              "\t<tr><td>casual</td><td>Wednesday</td><td>1688.5490 secs</td></tr>\n",
              "\t<tr><td>member</td><td>Wednesday</td><td> 789.8299 secs</td></tr>\n",
              "</tbody>\n",
              "</table>\n"
            ]
          },
          "metadata": {}
        }
      ]
    },
    {
      "cell_type": "markdown",
      "metadata": {
        "id": "3Axpi5OSDiET"
      },
      "source": [
        "# Export Summary File for Further Analysis\n",
        "\n",
        "# ======================================================="
      ]
    },
    {
      "cell_type": "markdown",
      "metadata": {
        "id": "MqK2bAxwPAiD"
      },
      "source": [
        "Export dataframe as csv file from google colab to google drive"
      ]
    },
    {
      "cell_type": "code",
      "metadata": {
        "id": "sAtBH87jD5kb"
      },
      "source": [
        ""
      ],
      "execution_count": null,
      "outputs": []
    },
    {
      "cell_type": "markdown",
      "metadata": {
        "id": "ygQEKAXjDJni"
      },
      "source": [
        ""
      ]
    }
  ]
}